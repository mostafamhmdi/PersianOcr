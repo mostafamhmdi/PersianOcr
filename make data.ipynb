{
 "cells": [
  {
   "cell_type": "markdown",
   "id": "8c579da4",
   "metadata": {},
   "source": [
    "# in this file we make data for persian numbers and alphabets"
   ]
  },
  {
   "cell_type": "code",
   "execution_count": 1,
   "id": "7dbbdc2e",
   "metadata": {},
   "outputs": [],
   "source": [
    "import pandas as pd\n",
    "import numpy as np\n",
    "import matplotlib.pyplot as plt\n",
    "import cv2\n",
    "import zarnevis\n",
    "import os\n",
    "from PIL import Image"
   ]
  },
  {
   "cell_type": "code",
   "execution_count": 2,
   "id": "15206059",
   "metadata": {},
   "outputs": [],
   "source": [
    "persian_alphabet = ['ا', 'آ', 'ب', 'پ', 'ت', 'ث', 'ج', 'چ', 'ح', 'خ', 'د', 'ذ', 'ر', 'ز', 'ژ', 'س', 'ش', 'ص', 'ض', 'ط', 'ظ', 'ع', 'غ', 'ف', 'ق', 'ک', 'گ', 'ل', 'م', 'ن', 'و', 'ه', 'ی']\n",
    "persian_alphabet = [str(i) for i in range(10)] + persian_alphabet"
   ]
  },
  {
   "cell_type": "code",
   "execution_count": 3,
   "id": "49ecba15",
   "metadata": {},
   "outputs": [],
   "source": [
    "myImage=[]\n",
    "def write_on_pics(letter, font,size):\n",
    "    font = f'Fonts/{font}.ttf'\n",
    "    image = np.zeros((50,50,3), np.uint8)\n",
    "    processor = zarnevis.Zarnevis(image=image, text=letter, font_file=font, font_size=size, text_coords=(15,5), color=(255, 255, 255))\n",
    "    image = processor.draw_text()\n",
    "    return Image.fromarray(image)\n",
    "#     return image"
   ]
  },
  {
   "cell_type": "code",
   "execution_count": 4,
   "id": "77e21486",
   "metadata": {
    "scrolled": false
   },
   "outputs": [],
   "source": [
    "folder_path = r'C:\\Users\\Mostafa\\Desktop\\PersianOcr\\Fonts'\n",
    "ttf_files = [file for file in os.listdir(folder_path) if file.endswith('.ttf')]\n",
    "output_directory=r'C:\\Users\\Mostafa\\Desktop\\PersianOcr\\data'\n",
    "\n",
    "alpha_column=[]\n",
    "for size in[13,16,19,22,26,30,33,36,42]:\n",
    "    for alpha in persian_alphabet:\n",
    "        for font in ttf_files:\n",
    "            myfont = f'{font}'\n",
    "            s_font=myfont.split('.')[0]\n",
    "            alpha_column.append(alpha)\n",
    "            image = write_on_pics(alpha, s_font,size)\n",
    "            myImage.append(image)\n"
   ]
  },
  {
   "cell_type": "code",
   "execution_count": 5,
   "id": "b2e38ec8",
   "metadata": {},
   "outputs": [
    {
     "name": "stdout",
     "output_type": "stream",
     "text": [
      "count of fonts: 112\n"
     ]
    }
   ],
   "source": [
    "print(\"count of fonts:\" ,len(ttf_files))"
   ]
  },
  {
   "cell_type": "code",
   "execution_count": 6,
   "id": "215d5101",
   "metadata": {},
   "outputs": [
    {
     "name": "stdout",
     "output_type": "stream",
     "text": [
      "count of image of letters: 43344\n"
     ]
    }
   ],
   "source": [
    "print(\"count of image of letters:\" ,len(myImage))"
   ]
  },
  {
   "cell_type": "code",
   "execution_count": 7,
   "id": "035f7cd8",
   "metadata": {},
   "outputs": [
    {
     "data": {
      "text/plain": [
       "<matplotlib.image.AxesImage at 0x27b192c80d0>"
      ]
     },
     "execution_count": 7,
     "metadata": {},
     "output_type": "execute_result"
    },
    {
     "data": {
      "image/png": "[encoded data removed]",
      "text/plain": [
       "<Figure size 640x480 with 1 Axes>"
      ]
     },
     "metadata": {},
     "output_type": "display_data"
    }
   ],
   "source": [
    "plt.imshow(myImage[19711])"
   ]
  },
  {
   "cell_type": "code",
   "execution_count": 8,
   "id": "7408f597",
   "metadata": {},
   "outputs": [
    {
     "data": {
      "text/plain": [
       "<matplotlib.image.AxesImage at 0x27b1b4db5e0>"
      ]
     },
     "execution_count": 8,
     "metadata": {},
     "output_type": "execute_result"
    },
    {
     "data": {
      "image/png": "[encoded data removed]",
      "text/plain": [
       "<Figure size 640x480 with 1 Axes>"
      ]
     },
     "metadata": {},
     "output_type": "display_data"
    }
   ],
   "source": [
    "plt.imshow(myImage[2542])"
   ]
  },
  {
   "cell_type": "code",
   "execution_count": 9,
   "id": "e62033c0",
   "metadata": {},
   "outputs": [
    {
     "name": "stdout",
     "output_type": "stream",
     "text": [
      "BArabics\n",
      "BArshia\n",
      "BAseman\n",
      "BAsemanI\n",
      "BBadr\n",
      "BBadrBd\n",
      "BBaran\n",
      "BBaranI\n",
      "BBaranO\n",
      "BBaranOI\n",
      "BBardiya\n",
      "BBardyBd\n",
      "BCompsBd\n",
      "BCompset\n",
      "BDavat\n",
      "BElham\n",
      "BElm\n",
      "BElmB\n",
      "BElmI\n",
      "BEsfhnBd\n",
      "BFarnaz\n",
      "BFerdosi\n",
      "BHamid\n",
      "BHelal\n",
      "BHoma\n",
      "BJadidBd\n",
      "BKamran\n",
      "BKamrnBd\n",
      "BKarim\n",
      "BKarimBd\n",
      "BKoodkBd\n",
      "BLotus\n",
      "BLotusBd\n",
      "BMah\n",
      "BMashdBd\n",
      "BMashhad\n",
      "BMashhdI\n",
      "BMehrBd\n",
      "BMitra\n",
      "BMitraBd\n",
      "BNarenj\n",
      "BNasimBd\n",
      "BNazanin\n",
      "BNaznnBd\n",
      "BNikiB\n",
      "BNikiBI\n",
      "BRoya\n",
      "BRoyaBd\n",
      "BSahar\n",
      "BSara\n",
      "BSepideh\n",
      "BSetareh\n",
      "BShiraz\n",
      "BShirazI\n",
      "BStarBd\n",
      "BTabssom\n",
      "BTehran\n",
      "BTehranI\n",
      "BTitrBd\n",
      "BTrafcBd\n",
      "BTraffic\n",
      "BYagut\n",
      "BYagutBd\n",
      "BYekan\n",
      "BZar\n",
      "BZarBd\n",
      "Mj_Beirut Hd\n",
      "Mj_Beirut Heading\n",
      "Mj_Beirut Light\n",
      "Mj_Beirut Lt X3\n",
      "Mj_Beirut Md\n",
      "Mj_Beirut\n",
      "Mj_Casablanca Heavy\n",
      "Mj_Casablanca Light\n",
      "Mj_Casablanca\n",
      "Mj_Dalal St\n",
      "Mj_Dalal Text\n",
      "Mj_Dalal\n",
      "Mj_Digital Arabia LT\n",
      "Mj_Digital Arabia XL\n",
      "Mj_Digital Arabia\n",
      "Mj_Egypt\n",
      "Mj_Freehand\n",
      "Mj_Jordan\n",
      "Mj_Lebanon\n",
      "Mj_Liner Print-out Light\n",
      "Mj_Liner Print-out\n",
      "Mj_Liner Screen Bd\n",
      "Mj_Liner Screen\n",
      "Mj_Liner XL\n",
      "Mj_Liner XXL\n",
      "Mj_Matin\n",
      "Mj_Moshfegh Bold\n",
      "Mj_Moshfegh\n",
      "Mj_Newspaper\n",
      "Mj_Promoter Lt\n",
      "Mj_Promoter Md\n",
      "Mj_Promoter\n",
      "Mj_Qatar\n",
      "Mj_Sahafa\n",
      "Mj_Samra Lt\n",
      "Mj_Samra\n",
      "Mj_Sudan Bd\n",
      "Mj_Sudan\n",
      "Mj_Tehran\n",
      "Mj_Tunisia Bd\n",
      "Mj_Tunisia Lt\n",
      "Mj_Tunisia\n",
      "Mj_Typographer Bd\n",
      "Mj_Typographer Book\n",
      "Mj_Typographer Heavy\n",
      "Mj_Typographer\n"
     ]
    }
   ],
   "source": [
    "fs=[]\n",
    "for font in ttf_files:\n",
    "    myfont = f'{font}'\n",
    "    s_font=myfont.split('.')[0]\n",
    "    fs.append(s_font)\n",
    "    print(s_font)"
   ]
  },
  {
   "cell_type": "code",
   "execution_count": null,
   "id": "c3b2a746",
   "metadata": {},
   "outputs": [],
   "source": []
  },
  {
   "cell_type": "code",
   "execution_count": 10,
   "id": "2f68388e",
   "metadata": {},
   "outputs": [],
   "source": [
    "output_directory=r'C:\\Users\\Mostafa\\Desktop\\PersianOcr\\data'\n",
    "index_column=[]\n",
    "for i, image in enumerate(myImage):\n",
    "    index_column.append(i)\n",
    "    image.save(os.path.join(output_directory, f'{i}.png'))"
   ]
  },
  {
   "cell_type": "code",
   "execution_count": 11,
   "id": "adbe9c15",
   "metadata": {},
   "outputs": [
    {
     "data": {
      "text/plain": [
       "43"
      ]
     },
     "execution_count": 11,
     "metadata": {},
     "output_type": "execute_result"
    }
   ],
   "source": [
    "len(persian_alphabet)"
   ]
  },
  {
   "cell_type": "code",
   "execution_count": 58,
   "id": "60a1f246",
   "metadata": {},
   "outputs": [],
   "source": [
    "del df"
   ]
  },
  {
   "cell_type": "code",
   "execution_count": 12,
   "id": "2fc3bf07",
   "metadata": {},
   "outputs": [
    {
     "name": "stdout",
     "output_type": "stream",
     "text": [
      "Excel file \"labels.csv\" created successfully.\n"
     ]
    }
   ],
   "source": [
    "df = pd.DataFrame(columns=['File_Name', 'Label'])\n",
    "df['File_Name']=index_column\n",
    "df['Label']=alpha_column\n",
    "\n",
    "excel_file_path = 'labels.csv'\n",
    "df.to_csv(excel_file_path, index=False, encoding='utf-8-sig')\n",
    "\n",
    "print(f'Excel file \"{excel_file_path}\" created successfully.')"
   ]
  },
  {
   "cell_type": "code",
   "execution_count": null,
   "id": "0ef0e7e1",
   "metadata": {},
   "outputs": [],
   "source": []
  }
 ],
 "metadata": {
  "kernelspec": {
   "display_name": "Python 3 (ipykernel)",
   "language": "python",
   "name": "python3"
  },
  "language_info": {
   "codemirror_mode": {
    "name": "ipython",
    "version": 3
   },
   "file_extension": ".py",
   "mimetype": "text/x-python",
   "name": "python",
   "nbconvert_exporter": "python",
   "pygments_lexer": "ipython3",
   "version": "3.10.7"
  }
 },
 "nbformat": 4,
 "nbformat_minor": 5
}
