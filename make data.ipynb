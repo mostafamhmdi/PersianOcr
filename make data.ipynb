{
 "cells": [
  {
   "cell_type": "markdown",
   "id": "5b96124e",
   "metadata": {},
   "source": [
    "# in this file we make data for persian numbers and alphabets"
   ]
  },
  {
   "cell_type": "code",
   "execution_count": 21,
   "id": "59febe24",
   "metadata": {},
   "outputs": [],
   "source": [
    "import pandas as pd\n",
    "import numpy as np\n",
    "import matplotlib.pyplot as plt\n",
    "import cv2\n",
    "import zarnevis\n",
    "import os\n",
    "from PIL import Image"
   ]
  },
  {
   "cell_type": "code",
   "execution_count": 22,
   "id": "41a981e8",
   "metadata": {},
   "outputs": [],
   "source": [
    "numbers=[]\n",
    "def numbers_on_pics(number, font):\n",
    "    font = f'Fonts/{font}.ttf'\n",
    "    image = np.zeros((50,50,3), np.uint8)\n",
    "    processor = zarnevis.Zarnevis(image=image, text=number, font_file=font, font_size=36, text_coords=(15,5), color=(255, 255, 255))\n",
    "    image = processor.draw_text()\n",
    "    return Image.fromarray(image)\n",
    "#     return image"
   ]
  },
  {
   "cell_type": "code",
   "execution_count": 23,
   "id": "ae346df5",
   "metadata": {
    "scrolled": false
   },
   "outputs": [],
   "source": [
    "folder_path = r'C:\\Users\\Mostafa\\Desktop\\PersianOcr\\Fonts'\n",
    "ttf_files = [file for file in os.listdir(folder_path) if file.endswith('.ttf')]\n",
    "\n",
    "for i in range(10):\n",
    "    for font in ttf_files:\n",
    "        myfont = f'{font}'\n",
    "        s_font=myfont.split('.')[0]\n",
    "        image = numbers_on_pics(str(i), s_font)\n",
    "        numbers.append(image)"
   ]
  },
  {
   "cell_type": "code",
   "execution_count": 5,
   "id": "3720bed9",
   "metadata": {},
   "outputs": [
    {
     "name": "stdout",
     "output_type": "stream",
     "text": [
      "count of fonts: 114\n"
     ]
    }
   ],
   "source": [
    "print(\"count of fonts:\" ,len(ttf_files))"
   ]
  },
  {
   "cell_type": "code",
   "execution_count": 7,
   "id": "5c5a6a68",
   "metadata": {},
   "outputs": [
    {
     "name": "stdout",
     "output_type": "stream",
     "text": [
      "count of image of numbers: 1140\n"
     ]
    }
   ],
   "source": [
    "print(\"count of image of numbers:\" ,len(numbers))"
   ]
  },
  {
   "cell_type": "code",
   "execution_count": 24,
   "id": "d0068a86",
   "metadata": {},
   "outputs": [
    {
     "data": {
      "text/plain": [
       "<matplotlib.image.AxesImage at 0x17718efe140>"
      ]
     },
     "execution_count": 24,
     "metadata": {},
     "output_type": "execute_result"
    },
    {
     "data": {
      "image/png": "[encoded data removed]",
      "text/plain": [
       "<Figure size 640x480 with 1 Axes>"
      ]
     },
     "metadata": {},
     "output_type": "display_data"
    }
   ],
   "source": [
    "plt.imshow(numbers[0])"
   ]
  },
  {
   "cell_type": "code",
   "execution_count": 10,
   "id": "5344abc0",
   "metadata": {},
   "outputs": [],
   "source": [
    "persian_alphabet = ['ا', 'آ', 'ب','ب', 'پ', 'ت', 'ث', 'ج', 'چ', 'ح', 'خ', 'د', 'ذ', 'ر', 'ز', 'ژ', 'س', 'ش', 'ص', 'ض', 'ط', 'ظ', 'ع', 'غ', 'ف', 'ق', 'ک', 'گ', 'ل', 'م', 'ن', 'و', 'ه', 'ی']"
   ]
  },
  {
   "cell_type": "code",
   "execution_count": 26,
   "id": "8ff3291a",
   "metadata": {},
   "outputs": [],
   "source": [
    "alphas=[]\n",
    "def alpha_on_pics(alphabet, font):\n",
    "    font = f'Fonts/{font}.ttf'\n",
    "    image = np.zeros((50,50,3), np.uint8)\n",
    "    processor = zarnevis.Zarnevis(image=image, text=alphabet, font_file=font, font_size=36, text_coords=(15,5), color=(255, 255, 255))\n",
    "    image = processor.draw_text()\n",
    "    return Image.fromarray(image)\n",
    "#     return image"
   ]
  },
  {
   "cell_type": "code",
   "execution_count": 27,
   "id": "de9cdc7d",
   "metadata": {},
   "outputs": [],
   "source": [
    "for alpha in persian_alphabet:\n",
    "    for font in ttf_files:\n",
    "        myfont = f'{font}'\n",
    "        s_font=myfont.split('.')[0]\n",
    "        image = numbers_on_pics(alpha, s_font)\n",
    "        alphas.append(image)"
   ]
  },
  {
   "cell_type": "code",
   "execution_count": 28,
   "id": "7d106e62",
   "metadata": {},
   "outputs": [
    {
     "data": {
      "text/plain": [
       "<matplotlib.image.AxesImage at 0x1771e046bc0>"
      ]
     },
     "execution_count": 28,
     "metadata": {},
     "output_type": "execute_result"
    },
    {
     "data": {
      "image/png": "[encoded data removed]",
      "text/plain": [
       "<Figure size 640x480 with 1 Axes>"
      ]
     },
     "metadata": {},
     "output_type": "display_data"
    }
   ],
   "source": [
    "plt.imshow(alphas[2])"
   ]
  },
  {
   "cell_type": "code",
   "execution_count": 29,
   "id": "4fc70aac",
   "metadata": {},
   "outputs": [
    {
     "name": "stdout",
     "output_type": "stream",
     "text": [
      "count of image of alphabets: 3876\n"
     ]
    }
   ],
   "source": [
    "print(\"count of image of alphabets:\" ,len(alphas))"
   ]
  },
  {
   "cell_type": "code",
   "execution_count": 15,
   "id": "a9002c00",
   "metadata": {},
   "outputs": [
    {
     "data": {
      "text/plain": [
       "34"
      ]
     },
     "execution_count": 15,
     "metadata": {},
     "output_type": "execute_result"
    }
   ],
   "source": [
    "len(persian_alphabet)"
   ]
  },
  {
   "cell_type": "code",
   "execution_count": 16,
   "id": "f39d8149",
   "metadata": {},
   "outputs": [
    {
     "name": "stdout",
     "output_type": "stream",
     "text": [
      "arial\n",
      "arialbd\n",
      "BArabics\n",
      "BArshia\n",
      "BAseman\n",
      "BAsemanI\n",
      "BBadr\n",
      "BBadrBd\n",
      "BBaran\n",
      "BBaranI\n",
      "BBaranO\n",
      "BBaranOI\n",
      "BBardiya\n",
      "BBardyBd\n",
      "BCompsBd\n",
      "BCompset\n",
      "BDavat\n",
      "BElham\n",
      "BElm\n",
      "BElmB\n",
      "BElmI\n",
      "BEsfhnBd\n",
      "BFarnaz\n",
      "BFerdosi\n",
      "BHamid\n",
      "BHelal\n",
      "BHoma\n",
      "BJadidBd\n",
      "BKamran\n",
      "BKamrnBd\n",
      "BKarim\n",
      "BKarimBd\n",
      "BKoodkBd\n",
      "BLotus\n",
      "BLotusBd\n",
      "BMah\n",
      "BMashdBd\n",
      "BMashhad\n",
      "BMashhdI\n",
      "BMehrBd\n",
      "BMitra\n",
      "BMitraBd\n",
      "BNarenj\n",
      "BNasimBd\n",
      "BNazanin\n",
      "BNaznnBd\n",
      "BNikiB\n",
      "BNikiBI\n",
      "BRoya\n",
      "BRoyaBd\n",
      "BSahar\n",
      "BSara\n",
      "BSepideh\n",
      "BSetareh\n",
      "BShiraz\n",
      "BShirazI\n",
      "BStarBd\n",
      "BTabssom\n",
      "BTehran\n",
      "BTehranI\n",
      "BTitrBd\n",
      "BTrafcBd\n",
      "BTraffic\n",
      "BYagut\n",
      "BYagutBd\n",
      "BYekan\n",
      "BZar\n",
      "BZarBd\n",
      "Mj_Beirut Hd\n",
      "Mj_Beirut Heading\n",
      "Mj_Beirut Light\n",
      "Mj_Beirut Lt X3\n",
      "Mj_Beirut Md\n",
      "Mj_Beirut\n",
      "Mj_Casablanca Heavy\n",
      "Mj_Casablanca Light\n",
      "Mj_Casablanca\n",
      "Mj_Dalal St\n",
      "Mj_Dalal Text\n",
      "Mj_Dalal\n",
      "Mj_Digital Arabia LT\n",
      "Mj_Digital Arabia XL\n",
      "Mj_Digital Arabia\n",
      "Mj_Egypt\n",
      "Mj_Freehand\n",
      "Mj_Jordan\n",
      "Mj_Lebanon\n",
      "Mj_Liner Print-out Light\n",
      "Mj_Liner Print-out\n",
      "Mj_Liner Screen Bd\n",
      "Mj_Liner Screen\n",
      "Mj_Liner XL\n",
      "Mj_Liner XXL\n",
      "Mj_Matin\n",
      "Mj_Moshfegh Bold\n",
      "Mj_Moshfegh\n",
      "Mj_Newspaper\n",
      "Mj_Promoter Lt\n",
      "Mj_Promoter Md\n",
      "Mj_Promoter\n",
      "Mj_Qatar\n",
      "Mj_Sahafa\n",
      "Mj_Samra Lt\n",
      "Mj_Samra\n",
      "Mj_Sudan Bd\n",
      "Mj_Sudan\n",
      "Mj_Tehran\n",
      "Mj_Tunisia Bd\n",
      "Mj_Tunisia Lt\n",
      "Mj_Tunisia\n",
      "Mj_Typographer Bd\n",
      "Mj_Typographer Book\n",
      "Mj_Typographer Heavy\n",
      "Mj_Typographer\n"
     ]
    }
   ],
   "source": [
    "fs=[]\n",
    "for font in ttf_files:\n",
    "    myfont = f'{font}'\n",
    "    s_font=myfont.split('.')[0]\n",
    "    fs.append(s_font)\n",
    "    print(s_font)"
   ]
  },
  {
   "cell_type": "code",
   "execution_count": null,
   "id": "cf20c7f1",
   "metadata": {},
   "outputs": [],
   "source": []
  },
  {
   "cell_type": "code",
   "execution_count": 25,
   "id": "dab76172",
   "metadata": {},
   "outputs": [],
   "source": [
    "output_directory=r'C:\\Users\\Mostafa\\Desktop\\PersianOcr\\data'\n",
    "for i, image in enumerate(numbers):\n",
    "    image.save(os.path.join(output_directory, f'numbers_{i}.png'))"
   ]
  },
  {
   "cell_type": "code",
   "execution_count": 30,
   "id": "d0c8af1b",
   "metadata": {},
   "outputs": [],
   "source": [
    "output_directory=r'C:\\Users\\Mostafa\\Desktop\\PersianOcr\\data'\n",
    "for i, image in enumerate(alphas):\n",
    "    image.save(os.path.join(output_directory, f'alphabets_{i}.png'))"
   ]
  },
  {
   "cell_type": "code",
   "execution_count": null,
   "id": "3a49a353",
   "metadata": {},
   "outputs": [],
   "source": []
  }
 ],
 "metadata": {
  "kernelspec": {
   "display_name": "Python 3 (ipykernel)",
   "language": "python",
   "name": "python3"
  },
  "language_info": {
   "codemirror_mode": {
    "name": "ipython",
    "version": 3
   },
   "file_extension": ".py",
   "mimetype": "text/x-python",
   "name": "python",
   "nbconvert_exporter": "python",
   "pygments_lexer": "ipython3",
   "version": "3.10.7"
  }
 },
 "nbformat": 4,
 "nbformat_minor": 5
}
